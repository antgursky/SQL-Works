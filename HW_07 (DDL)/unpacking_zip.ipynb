{
 "cells": [
  {
   "cell_type": "markdown",
   "id": "29c35629",
   "metadata": {},
   "source": [
    "### HW_7 Распаковка данных\n",
    "sqlalchemy / pandas"
   ]
  },
  {
   "cell_type": "code",
   "execution_count": 4,
   "id": "3ab1a448-f056-4eb9-82ec-f595371e2ded",
   "metadata": {},
   "outputs": [],
   "source": [
    "from sqlalchemy import create_engine\n",
    "\n",
    "import pandas as pd\n",
    "pd.set_option('display.max_columns', None)\n",
    "\n",
    "import warnings\n",
    "warnings.filterwarnings('ignore')"
   ]
  },
  {
   "cell_type": "code",
   "execution_count": 30,
   "id": "0bf80953-4250-4597-812a-2973ae647070",
   "metadata": {},
   "outputs": [],
   "source": [
    "def connection_yandex_cloud_demo(echo):\n",
    "    \"\"\"Connection to DataBase dwh\"\"\"\n",
    "    login = 'user_26'\n",
    "    password = '1b37181a45a73fb15266917ec0387f04'\n",
    "    host = 'rc1b-7ng6ih3jte3824x8.mdb.yandexcloud.net'\n",
    "    port = '6432'\n",
    "    db_name = 'demo'\n",
    "    return create_engine(f'postgresql://{login}:{password}@{host}:{port}/{db_name}', echo=echo)\n",
    "\n",
    "engine_demo = connection_yandex_cloud_demo(echo=True)"
   ]
  },
  {
   "cell_type": "code",
   "execution_count": 34,
   "id": "a2f241e5-9b7a-4a31-a63f-36355f0a2fbd",
   "metadata": {},
   "outputs": [],
   "source": [
    "import os\n",
    "import zipfile\n",
    "with zipfile.ZipFile('fraud.csv.zip', 'r') as archive:\n",
    "    archive.extractall('data/')"
   ]
  },
  {
   "cell_type": "code",
   "execution_count": 38,
   "id": "d9143c53-7c2d-4efa-9632-f46d37f13c94",
   "metadata": {},
   "outputs": [],
   "source": [
    "df = pd.read_csv('data/fraud.csv', sep=';')"
   ]
  },
  {
   "cell_type": "code",
   "execution_count": 40,
   "id": "9f8798d0-856b-402e-bab3-6fc5b3e9a857",
   "metadata": {},
   "outputs": [
    {
     "data": {
      "text/plain": [
       "(265340, 1)"
      ]
     },
     "execution_count": 40,
     "metadata": {},
     "output_type": "execute_result"
    }
   ],
   "source": [
    "df.shape"
   ]
  },
  {
   "cell_type": "code",
   "execution_count": 42,
   "id": "16e978d3-a2d0-4e75-9074-a5aff52344e1",
   "metadata": {},
   "outputs": [
    {
     "name": "stdout",
     "output_type": "stream",
     "text": [
      "<class 'pandas.core.frame.DataFrame'>\n",
      "RangeIndex: 265340 entries, 0 to 265339\n",
      "Data columns (total 1 columns):\n",
      " #   Column                                                                                                                                                                              Non-Null Count   Dtype \n",
      "---  ------                                                                                                                                                                              --------------   ----- \n",
      " 0   ,Unnamed: 0,trans_date_trans_time,cc_num,merchant,category,amt,first,last,gender,street,city,state,zip,lat,long,city_pop,job,dob,trans_num,unix_time,merch_lat,merch_long,is_fraud  265340 non-null  object\n",
      "dtypes: object(1)\n",
      "memory usage: 2.0+ MB\n"
     ]
    }
   ],
   "source": [
    "df.info()\n"
   ]
  },
  {
   "cell_type": "code",
   "execution_count": 44,
   "id": "ce95499e-ad00-49b4-ab0e-70ff8cea7007",
   "metadata": {},
   "outputs": [
    {
     "data": {
      "text/html": [
       "<div>\n",
       "<style scoped>\n",
       "    .dataframe tbody tr th:only-of-type {\n",
       "        vertical-align: middle;\n",
       "    }\n",
       "\n",
       "    .dataframe tbody tr th {\n",
       "        vertical-align: top;\n",
       "    }\n",
       "\n",
       "    .dataframe thead th {\n",
       "        text-align: right;\n",
       "    }\n",
       "</style>\n",
       "<table border=\"1\" class=\"dataframe\">\n",
       "  <thead>\n",
       "    <tr style=\"text-align: right;\">\n",
       "      <th></th>\n",
       "      <th>,Unnamed: 0,trans_date_trans_time,cc_num,merchant,category,amt,first,last,gender,street,city,state,zip,lat,long,city_pop,job,dob,trans_num,unix_time,merch_lat,merch_long,is_fraud</th>\n",
       "    </tr>\n",
       "  </thead>\n",
       "  <tbody>\n",
       "    <tr>\n",
       "      <th>0</th>\n",
       "      <td>811778,811778,2019-12-07 10:55:06,676173792455...</td>\n",
       "    </tr>\n",
       "    <tr>\n",
       "      <th>1</th>\n",
       "      <td>1101718,1101718,2020-04-03 13:10:06,3051820676...</td>\n",
       "    </tr>\n",
       "    <tr>\n",
       "      <th>2</th>\n",
       "      <td>800013,800013,2019-12-04 07:07:04,465849081548...</td>\n",
       "    </tr>\n",
       "    <tr>\n",
       "      <th>3</th>\n",
       "      <td>398945,398945,2019-06-30 18:43:08,471656179695...</td>\n",
       "    </tr>\n",
       "    <tr>\n",
       "      <th>4</th>\n",
       "      <td>207455,207455,2019-04-15 19:57:49,352840721757...</td>\n",
       "    </tr>\n",
       "  </tbody>\n",
       "</table>\n",
       "</div>"
      ],
      "text/plain": [
       "  ,Unnamed: 0,trans_date_trans_time,cc_num,merchant,category,amt,first,last,gender,street,city,state,zip,lat,long,city_pop,job,dob,trans_num,unix_time,merch_lat,merch_long,is_fraud\n",
       "0  811778,811778,2019-12-07 10:55:06,676173792455...                                                                                                                                \n",
       "1  1101718,1101718,2020-04-03 13:10:06,3051820676...                                                                                                                                \n",
       "2  800013,800013,2019-12-04 07:07:04,465849081548...                                                                                                                                \n",
       "3  398945,398945,2019-06-30 18:43:08,471656179695...                                                                                                                                \n",
       "4  207455,207455,2019-04-15 19:57:49,352840721757...                                                                                                                                "
      ]
     },
     "execution_count": 44,
     "metadata": {},
     "output_type": "execute_result"
    }
   ],
   "source": [
    "df.head(5)\n"
   ]
  },
  {
   "cell_type": "code",
   "execution_count": null,
   "id": "a35a78cb-5b51-42f3-93e2-66c041f09e3e",
   "metadata": {},
   "outputs": [],
   "source": []
  }
 ],
 "metadata": {
  "kernelspec": {
   "display_name": "Python 3 (ipykernel)",
   "language": "python",
   "name": "python3"
  },
  "language_info": {
   "codemirror_mode": {
    "name": "ipython",
    "version": 3
   },
   "file_extension": ".py",
   "mimetype": "text/x-python",
   "name": "python",
   "nbconvert_exporter": "python",
   "pygments_lexer": "ipython3",
   "version": "3.12.4"
  }
 },
 "nbformat": 4,
 "nbformat_minor": 5
}
